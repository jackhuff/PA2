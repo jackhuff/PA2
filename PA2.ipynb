{
 "cells": [
  {
   "cell_type": "markdown",
   "id": "cbcc50ed",
   "metadata": {},
   "source": [
    "## Programming Assignment 2\n",
    "### Jack Huff\n",
    "#### Fall 2021 \n",
    "#### CS-150-01"
   ]
  },
  {
   "cell_type": "code",
   "execution_count": 10,
   "id": "08631bf5",
   "metadata": {
    "scrolled": true
   },
   "outputs": [
    {
     "name": "stdout",
     "output_type": "stream",
     "text": [
      "0\n",
      "1\n",
      "2\n",
      "3\n",
      "4\n",
      "5\n",
      "6 *\n",
      "7\n",
      "8\n",
      "9 *\n",
      "10\n",
      "11\n",
      "12 *\n",
      "13\n",
      "14\n",
      "15 *\n",
      "16\n",
      "17\n",
      "18 *\n",
      "19\n",
      "20\n",
      "21 *\n",
      "22\n",
      "23\n",
      "24 *\n",
      "25\n",
      "26\n",
      "27 *\n",
      "28\n",
      "29\n",
      "30 *\n",
      "31\n",
      "32\n",
      "33 *\n",
      "34\n",
      "35\n",
      "36 *\n",
      "37\n",
      "38\n",
      "39 *\n",
      "40\n",
      "41\n",
      "42 *\n",
      "43\n",
      "44\n",
      "45 *\n",
      "46\n",
      "47\n",
      "48 *\n",
      "49\n",
      "50\n",
      "51 *\n",
      "52\n",
      "53\n",
      "54 *\n",
      "55\n",
      "56\n",
      "57 *\n",
      "58\n",
      "59\n",
      "60 *\n",
      "61\n",
      "62\n",
      "63 *\n",
      "64\n",
      "65\n",
      "66 *\n",
      "67\n",
      "68\n",
      "69 *\n",
      "70\n",
      "71\n",
      "72 *\n",
      "73\n",
      "74\n",
      "75 *\n",
      "76\n",
      "77\n",
      "78 *\n",
      "79\n",
      "80\n",
      "81 *\n",
      "82\n",
      "83\n",
      "84 *\n",
      "85\n",
      "86\n",
      "87 *\n",
      "88\n",
      "89\n",
      "90 *\n",
      "91\n",
      "92\n",
      "93 *\n",
      "94\n",
      "95\n",
      "96 *\n",
      "97\n",
      "98\n",
      "99 *\n",
      "100\n"
     ]
    }
   ],
   "source": [
    "for num in range(0,101):\n",
    "    if num%3==0 and num!=3 and num!=0:\n",
    "        print (num, \"*\")\n",
    "    else:\n",
    "        print(num)"
   ]
  },
  {
   "cell_type": "code",
   "execution_count": 9,
   "id": "02d0b01a",
   "metadata": {},
   "outputs": [
    {
     "name": "stdout",
     "output_type": "stream",
     "text": [
      "What is the subject's age? (0 to quit)7\n",
      "Minor\n",
      "What is the subject's age? (0 to quit)45\n",
      "Adult\n",
      "What is the subject's age? (0 to quit)69\n",
      "Senior Citizen\n",
      "What is the subject's age? (0 to quit)0\n"
     ]
    }
   ],
   "source": [
    "x=int(input(\"What is the subject's age? (0 to quit)\"))\n",
    "while x>0:\n",
    "    if x<18:\n",
    "        print(\"Minor\")\n",
    "    elif x>=18 and x<=64:\n",
    "        print(\"Adult\")\n",
    "    elif x>=65:\n",
    "        print(\"Senior Citizen\")\n",
    "    x=int(input(\"What is the subject's age? (0 to quit)\"))"
   ]
  },
  {
   "cell_type": "code",
   "execution_count": 4,
   "id": "2eb2d5bc",
   "metadata": {},
   "outputs": [
    {
     "name": "stdout",
     "output_type": "stream",
     "text": [
      "43 Adult\n",
      "5 Minor\n",
      "23 Adult\n",
      "90 Senior Citizen\n",
      "58 Adult\n",
      "54 Adult\n",
      "34 Adult\n",
      "78 Senior Citizen\n"
     ]
    }
   ],
   "source": [
    "age=[43,5,23,90,58,54,34,78]\n",
    "for age in age:\n",
    "    if age<18:\n",
    "        print(age, \"Minor\")\n",
    "    elif age>=18 and age<=64:\n",
    "        print(age, \"Adult\")\n",
    "    elif age>=65:\n",
    "        print(age, \"Senior Citizen\")"
   ]
  },
  {
   "cell_type": "code",
   "execution_count": null,
   "id": "455a6d33",
   "metadata": {},
   "outputs": [],
   "source": []
  }
 ],
 "metadata": {
  "kernelspec": {
   "display_name": "Python 3",
   "language": "python",
   "name": "python3"
  },
  "language_info": {
   "codemirror_mode": {
    "name": "ipython",
    "version": 3
   },
   "file_extension": ".py",
   "mimetype": "text/x-python",
   "name": "python",
   "nbconvert_exporter": "python",
   "pygments_lexer": "ipython3",
   "version": "3.8.8"
  }
 },
 "nbformat": 4,
 "nbformat_minor": 5
}
